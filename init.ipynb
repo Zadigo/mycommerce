{
 "cells": [
  {
   "cell_type": "markdown",
   "metadata": {},
   "source": [
    "# Configure file\n",
    "\n",
    "Since this file will also be uploaded, this avoids exposing sensitive data by configuration global paths"
   ]
  },
  {
   "cell_type": "code",
   "execution_count": 6,
   "metadata": {},
   "outputs": [],
   "source": [
    "import configparser"
   ]
  },
  {
   "cell_type": "code",
   "execution_count": 7,
   "metadata": {},
   "outputs": [
    {
     "data": {
      "text/plain": [
       "['project.ini']"
      ]
     },
     "execution_count": 7,
     "metadata": {},
     "output_type": "execute_result"
    }
   ],
   "source": [
    "configuration = configparser.ConfigParser()\n",
    "configuration.read('project.ini')"
   ]
  },
  {
   "cell_type": "code",
   "execution_count": 8,
   "metadata": {},
   "outputs": [],
   "source": [
    "IMAGES_FOLDER_PATH = configuration.get('DEFAULT', 'images_folder')"
   ]
  },
  {
   "cell_type": "markdown",
   "metadata": {},
   "source": [
    "## Django setup"
   ]
  },
  {
   "cell_type": "code",
   "execution_count": 4,
   "metadata": {},
   "outputs": [],
   "source": [
    "import django\n",
    "import os\n",
    "import pathlib\n",
    "from django.conf import settings"
   ]
  },
  {
   "cell_type": "code",
   "execution_count": 5,
   "metadata": {},
   "outputs": [],
   "source": [
    "BASE_DIR = os.path.abspath('.')"
   ]
  },
  {
   "cell_type": "code",
   "execution_count": 6,
   "metadata": {},
   "outputs": [],
   "source": [
    "settings.configure(\n",
    "    BASE_DIR=BASE_DIR,\n",
    "    INSTALLED_APPS=[\n",
    "        'django.contrib.admin',\n",
    "        'django.contrib.auth',\n",
    "        'django.contrib.contenttypes',\n",
    "        'django.contrib.sessions',\n",
    "        'django.contrib.messages',\n",
    "        'django.contrib.staticfiles',\n",
    "\n",
    "        'django_extensions',\n",
    "        'corsheaders',\n",
    "        'rest_framework',\n",
    "        'rest_framework.authtoken',\n",
    "\n",
    "        'api',\n",
    "        'shop',\n",
    "        'cart',\n",
    "        'orders',\n",
    "        'shipments',\n",
    "        'reviews',\n",
    "    ],\n",
    "    DATABASES={\n",
    "        'default': {\n",
    "            'ENGINE': 'django.db.backends.sqlite3',\n",
    "            'NAME': os.path.join(BASE_DIR, 'db.sqlite3'),\n",
    "        }\n",
    "    },\n",
    "    MEDIA_ROOT=os.path.join(BASE_DIR, 'media'),\n",
    "    DEFAULT_AUTO_FIELD='django.db.models.BigAutoField',\n",
    "    PRODUCT_MODEL='shop.Product',\n",
    "    CUSTOMER_ORDERS_MODEL='orders.CustomerOrder',\n",
    "    STRIPE_TOKENS=[()]\n",
    ")\n"
   ]
  },
  {
   "cell_type": "code",
   "execution_count": 7,
   "metadata": {},
   "outputs": [
    {
     "data": {
      "text/plain": [
       "'True'"
      ]
     },
     "execution_count": 7,
     "metadata": {},
     "output_type": "execute_result"
    }
   ],
   "source": [
    "os.environ.setdefault('DJANGO_ALLOW_ASYNC_UNSAFE', 'True')"
   ]
  },
  {
   "cell_type": "code",
   "execution_count": 8,
   "metadata": {},
   "outputs": [],
   "source": [
    "django.setup()"
   ]
  },
  {
   "cell_type": "markdown",
   "metadata": {},
   "source": [
    "## File collection"
   ]
  },
  {
   "cell_type": "code",
   "execution_count": 9,
   "metadata": {},
   "outputs": [],
   "source": [
    "def collect_files():\n",
    "    if os.path.exists(IMAGES_FOLDER_PATH):\n",
    "        result = list(os.walk(IMAGES_FOLDER_PATH))\n",
    "        full_path, dirs, files = result[0]\n",
    "        \n",
    "        images = filter(lambda x: any([x.endswith('jpg'), x.endswith('jpeg')]), files)\n",
    "        videos = filter(lambda x: x.endswith('mp4'), files)\n",
    "        \n",
    "        return full_path, list(images), list(videos)\n",
    "    return None, [], []"
   ]
  },
  {
   "cell_type": "markdown",
   "metadata": {},
   "source": [
    "## Product file generation\n",
    "Functions to generate a generic set of products from collected named fashion images"
   ]
  },
  {
   "cell_type": "code",
   "execution_count": 29,
   "metadata": {},
   "outputs": [],
   "source": [
    "import json\n",
    "import pathlib\n",
    "import re\n",
    "import random\n",
    "import datetime\n",
    "import pytz\n",
    "from shop.utils import create_product_slug\n"
   ]
  },
  {
   "cell_type": "code",
   "execution_count": 30,
   "metadata": {},
   "outputs": [],
   "source": [
    "def detect_media_name(name):\n",
    "    \"\"\"Detects the true name of the media file\"\"\"\n",
    "    result = re.match(r'(\\w+\\s)+', name)\n",
    "    if result is not None:\n",
    "        return result.group(0).strip().lower()\n"
   ]
  },
  {
   "cell_type": "code",
   "execution_count": 32,
   "metadata": {},
   "outputs": [
    {
     "name": "stdout",
     "output_type": "stream",
     "text": [
      "Created 40 products\n"
     ]
    }
   ],
   "source": [
    "def create_product_fixtures(model_dotted_path):\n",
    "    \"\"\"Creates a bunch of generic products for the test database\"\"\"\n",
    "    with open(os.path.join('.', 'fixtures.json'), mode='w', encoding='utf-8') as f:\n",
    "        products = []\n",
    "\n",
    "        _, images, _ = collect_files()\n",
    "        names = set(map(detect_media_name, images))\n",
    "        current_date = str(datetime.datetime.now(tz=pytz.timezone('America/Chicago')).date())\n",
    "        \n",
    "        for i, name in enumerate(names):\n",
    "            if name is not None:\n",
    "                product = {\n",
    "                    'name': name.title(),\n",
    "                    'color': random.choice(['Red' , 'Blue']),\n",
    "                    'unit_price': random.randrange(10, 800),\n",
    "                    'active': False,\n",
    "                    'display_new': random.choice([True, False]),\n",
    "                    'slug': create_product_slug(name),\n",
    "                    'category': random.choice(['Skirts', 'Activewear', 'Panties']),\n",
    "                    'created_on': current_date,\n",
    "                    'modified_on': current_date\n",
    "                }\n",
    "\n",
    "                is_on_sale = random.choice([True, False])\n",
    "                if is_on_sale:\n",
    "                    product['sale_value'] = random.randrange(10, 50)\n",
    "                    product['on_sale'] = True\n",
    "                else:\n",
    "                    product['sale_value'] = 0\n",
    "                    product['on_sale'] = False\n",
    "                    \n",
    "                products.append({\n",
    "                    'model': model_dotted_path,\n",
    "                    'pk': i + 1,\n",
    "                    'fields': product\n",
    "                })\n",
    "\n",
    "        json.dump(products, f)\n",
    "        print('Created', len(names), 'products')\n",
    "\n",
    "create_product_fixtures('shop.Product')\n"
   ]
  },
  {
   "cell_type": "code",
   "execution_count": 27,
   "metadata": {},
   "outputs": [
    {
     "ename": "ImproperlyConfigured",
     "evalue": "Requested setting USE_I18N, but settings are not configured. You must either define the environment variable DJANGO_SETTINGS_MODULE or call settings.configure() before accessing settings.",
     "output_type": "error",
     "traceback": [
      "\u001b[1;31m---------------------------------------------------------------------------\u001b[0m",
      "\u001b[1;31mImproperlyConfigured\u001b[0m                      Traceback (most recent call last)",
      "\u001b[1;32m~\\AppData\\Local\\Temp/ipykernel_7324/1331264573.py\u001b[0m in \u001b[0;36m<module>\u001b[1;34m\u001b[0m\n\u001b[1;32m----> 1\u001b[1;33m \u001b[1;32mfrom\u001b[0m \u001b[0mshop\u001b[0m\u001b[1;33m.\u001b[0m\u001b[0mchoices\u001b[0m \u001b[1;32mimport\u001b[0m \u001b[0mColorChoices\u001b[0m\u001b[1;33m,\u001b[0m \u001b[0mCategoryChoices\u001b[0m\u001b[1;33m\u001b[0m\u001b[1;33m\u001b[0m\u001b[0m\n\u001b[0m",
      "\u001b[1;32md:\\coding\\websites\\mycommerce\\shop\\choices.py\u001b[0m in \u001b[0;36m<module>\u001b[1;34m\u001b[0m\n\u001b[0;32m     65\u001b[0m \u001b[1;33m\u001b[0m\u001b[0m\n\u001b[0;32m     66\u001b[0m \u001b[1;33m\u001b[0m\u001b[0m\n\u001b[1;32m---> 67\u001b[1;33m \u001b[1;32mclass\u001b[0m \u001b[0mCategoryChoices\u001b[0m\u001b[1;33m(\u001b[0m\u001b[0mChoices\u001b[0m\u001b[1;33m)\u001b[0m\u001b[1;33m:\u001b[0m\u001b[1;33m\u001b[0m\u001b[1;33m\u001b[0m\u001b[0m\n\u001b[0m\u001b[0;32m     68\u001b[0m     \u001b[0mACCESSORIES\u001b[0m \u001b[1;33m=\u001b[0m \u001b[0m_\u001b[0m\u001b[1;33m(\u001b[0m\u001b[1;34m'Accessories'\u001b[0m\u001b[1;33m)\u001b[0m\u001b[1;33m\u001b[0m\u001b[1;33m\u001b[0m\u001b[0m\n\u001b[0;32m     69\u001b[0m     \u001b[0mACTIVEWEAR\u001b[0m \u001b[1;33m=\u001b[0m \u001b[0m_\u001b[0m\u001b[1;33m(\u001b[0m\u001b[1;34m'Activewear'\u001b[0m\u001b[1;33m)\u001b[0m\u001b[1;33m\u001b[0m\u001b[1;33m\u001b[0m\u001b[0m\n",
      "\u001b[1;32m~\\AppData\\Local\\Programs\\Python\\Python310\\lib\\site-packages\\django\\db\\models\\enums.py\u001b[0m in \u001b[0;36m__new__\u001b[1;34m(metacls, classname, bases, classdict, **kwds)\u001b[0m\n\u001b[0;32m     27\u001b[0m             \u001b[1;31m# assignment in enum's classdict.\u001b[0m\u001b[1;33m\u001b[0m\u001b[1;33m\u001b[0m\u001b[0m\n\u001b[0;32m     28\u001b[0m             \u001b[0mdict\u001b[0m\u001b[1;33m.\u001b[0m\u001b[0m__setitem__\u001b[0m\u001b[1;33m(\u001b[0m\u001b[0mclassdict\u001b[0m\u001b[1;33m,\u001b[0m \u001b[0mkey\u001b[0m\u001b[1;33m,\u001b[0m \u001b[0mvalue\u001b[0m\u001b[1;33m)\u001b[0m\u001b[1;33m\u001b[0m\u001b[1;33m\u001b[0m\u001b[0m\n\u001b[1;32m---> 29\u001b[1;33m         \u001b[0mcls\u001b[0m \u001b[1;33m=\u001b[0m \u001b[0msuper\u001b[0m\u001b[1;33m(\u001b[0m\u001b[1;33m)\u001b[0m\u001b[1;33m.\u001b[0m\u001b[0m__new__\u001b[0m\u001b[1;33m(\u001b[0m\u001b[0mmetacls\u001b[0m\u001b[1;33m,\u001b[0m \u001b[0mclassname\u001b[0m\u001b[1;33m,\u001b[0m \u001b[0mbases\u001b[0m\u001b[1;33m,\u001b[0m \u001b[0mclassdict\u001b[0m\u001b[1;33m,\u001b[0m \u001b[1;33m**\u001b[0m\u001b[0mkwds\u001b[0m\u001b[1;33m)\u001b[0m\u001b[1;33m\u001b[0m\u001b[1;33m\u001b[0m\u001b[0m\n\u001b[0m\u001b[0;32m     30\u001b[0m         \u001b[1;32mfor\u001b[0m \u001b[0mmember\u001b[0m\u001b[1;33m,\u001b[0m \u001b[0mlabel\u001b[0m \u001b[1;32min\u001b[0m \u001b[0mzip\u001b[0m\u001b[1;33m(\u001b[0m\u001b[0mcls\u001b[0m\u001b[1;33m.\u001b[0m\u001b[0m__members__\u001b[0m\u001b[1;33m.\u001b[0m\u001b[0mvalues\u001b[0m\u001b[1;33m(\u001b[0m\u001b[1;33m)\u001b[0m\u001b[1;33m,\u001b[0m \u001b[0mlabels\u001b[0m\u001b[1;33m)\u001b[0m\u001b[1;33m:\u001b[0m\u001b[1;33m\u001b[0m\u001b[1;33m\u001b[0m\u001b[0m\n\u001b[0;32m     31\u001b[0m             \u001b[0mmember\u001b[0m\u001b[1;33m.\u001b[0m\u001b[0m_label_\u001b[0m \u001b[1;33m=\u001b[0m \u001b[0mlabel\u001b[0m\u001b[1;33m\u001b[0m\u001b[1;33m\u001b[0m\u001b[0m\n",
      "\u001b[1;32m~\\AppData\\Local\\Programs\\Python\\Python310\\lib\\enum.py\u001b[0m in \u001b[0;36m__new__\u001b[1;34m(metacls, cls, bases, classdict, **kwds)\u001b[0m\n\u001b[0;32m    315\u001b[0m                 \u001b[1;31m# to the map, and by-value lookups for this value will be\u001b[0m\u001b[1;33m\u001b[0m\u001b[1;33m\u001b[0m\u001b[0m\n\u001b[0;32m    316\u001b[0m                 \u001b[1;31m# linear.\u001b[0m\u001b[1;33m\u001b[0m\u001b[1;33m\u001b[0m\u001b[0m\n\u001b[1;32m--> 317\u001b[1;33m                 \u001b[0menum_class\u001b[0m\u001b[1;33m.\u001b[0m\u001b[0m_value2member_map_\u001b[0m\u001b[1;33m[\u001b[0m\u001b[0mvalue\u001b[0m\u001b[1;33m]\u001b[0m \u001b[1;33m=\u001b[0m \u001b[0menum_member\u001b[0m\u001b[1;33m\u001b[0m\u001b[1;33m\u001b[0m\u001b[0m\n\u001b[0m\u001b[0;32m    318\u001b[0m             \u001b[1;32mexcept\u001b[0m \u001b[0mTypeError\u001b[0m\u001b[1;33m:\u001b[0m\u001b[1;33m\u001b[0m\u001b[1;33m\u001b[0m\u001b[0m\n\u001b[0;32m    319\u001b[0m                 \u001b[1;32mpass\u001b[0m\u001b[1;33m\u001b[0m\u001b[1;33m\u001b[0m\u001b[0m\n",
      "\u001b[1;32m~\\AppData\\Local\\Programs\\Python\\Python310\\lib\\site-packages\\django\\utils\\functional.py\u001b[0m in \u001b[0;36m__hash__\u001b[1;34m(self)\u001b[0m\n\u001b[0;32m    172\u001b[0m \u001b[1;33m\u001b[0m\u001b[0m\n\u001b[0;32m    173\u001b[0m         \u001b[1;32mdef\u001b[0m \u001b[0m__hash__\u001b[0m\u001b[1;33m(\u001b[0m\u001b[0mself\u001b[0m\u001b[1;33m)\u001b[0m\u001b[1;33m:\u001b[0m\u001b[1;33m\u001b[0m\u001b[1;33m\u001b[0m\u001b[0m\n\u001b[1;32m--> 174\u001b[1;33m             \u001b[1;32mreturn\u001b[0m \u001b[0mhash\u001b[0m\u001b[1;33m(\u001b[0m\u001b[0mself\u001b[0m\u001b[1;33m.\u001b[0m\u001b[0m__cast\u001b[0m\u001b[1;33m(\u001b[0m\u001b[1;33m)\u001b[0m\u001b[1;33m)\u001b[0m\u001b[1;33m\u001b[0m\u001b[1;33m\u001b[0m\u001b[0m\n\u001b[0m\u001b[0;32m    175\u001b[0m \u001b[1;33m\u001b[0m\u001b[0m\n\u001b[0;32m    176\u001b[0m         \u001b[1;32mdef\u001b[0m \u001b[0m__mod__\u001b[0m\u001b[1;33m(\u001b[0m\u001b[0mself\u001b[0m\u001b[1;33m,\u001b[0m \u001b[0mrhs\u001b[0m\u001b[1;33m)\u001b[0m\u001b[1;33m:\u001b[0m\u001b[1;33m\u001b[0m\u001b[1;33m\u001b[0m\u001b[0m\n",
      "\u001b[1;32m~\\AppData\\Local\\Programs\\Python\\Python310\\lib\\site-packages\\django\\utils\\functional.py\u001b[0m in \u001b[0;36m__cast\u001b[1;34m(self)\u001b[0m\n\u001b[0;32m    152\u001b[0m                 \u001b[1;32mreturn\u001b[0m \u001b[0mself\u001b[0m\u001b[1;33m.\u001b[0m\u001b[0m__bytes_cast\u001b[0m\u001b[1;33m(\u001b[0m\u001b[1;33m)\u001b[0m\u001b[1;33m\u001b[0m\u001b[1;33m\u001b[0m\u001b[0m\n\u001b[0;32m    153\u001b[0m             \u001b[1;32melif\u001b[0m \u001b[0mself\u001b[0m\u001b[1;33m.\u001b[0m\u001b[0m_delegate_text\u001b[0m\u001b[1;33m:\u001b[0m\u001b[1;33m\u001b[0m\u001b[1;33m\u001b[0m\u001b[0m\n\u001b[1;32m--> 154\u001b[1;33m                 \u001b[1;32mreturn\u001b[0m \u001b[0mself\u001b[0m\u001b[1;33m.\u001b[0m\u001b[0m__text_cast\u001b[0m\u001b[1;33m(\u001b[0m\u001b[1;33m)\u001b[0m\u001b[1;33m\u001b[0m\u001b[1;33m\u001b[0m\u001b[0m\n\u001b[0m\u001b[0;32m    155\u001b[0m             \u001b[1;32melse\u001b[0m\u001b[1;33m:\u001b[0m\u001b[1;33m\u001b[0m\u001b[1;33m\u001b[0m\u001b[0m\n\u001b[0;32m    156\u001b[0m                 \u001b[1;32mreturn\u001b[0m \u001b[0mfunc\u001b[0m\u001b[1;33m(\u001b[0m\u001b[1;33m*\u001b[0m\u001b[0mself\u001b[0m\u001b[1;33m.\u001b[0m\u001b[0m__args\u001b[0m\u001b[1;33m,\u001b[0m \u001b[1;33m**\u001b[0m\u001b[0mself\u001b[0m\u001b[1;33m.\u001b[0m\u001b[0m__kw\u001b[0m\u001b[1;33m)\u001b[0m\u001b[1;33m\u001b[0m\u001b[1;33m\u001b[0m\u001b[0m\n",
      "\u001b[1;32m~\\AppData\\Local\\Programs\\Python\\Python310\\lib\\site-packages\\django\\utils\\functional.py\u001b[0m in \u001b[0;36m__text_cast\u001b[1;34m(self)\u001b[0m\n\u001b[0;32m    140\u001b[0m \u001b[1;33m\u001b[0m\u001b[0m\n\u001b[0;32m    141\u001b[0m         \u001b[1;32mdef\u001b[0m \u001b[0m__text_cast\u001b[0m\u001b[1;33m(\u001b[0m\u001b[0mself\u001b[0m\u001b[1;33m)\u001b[0m\u001b[1;33m:\u001b[0m\u001b[1;33m\u001b[0m\u001b[1;33m\u001b[0m\u001b[0m\n\u001b[1;32m--> 142\u001b[1;33m             \u001b[1;32mreturn\u001b[0m \u001b[0mfunc\u001b[0m\u001b[1;33m(\u001b[0m\u001b[1;33m*\u001b[0m\u001b[0mself\u001b[0m\u001b[1;33m.\u001b[0m\u001b[0m__args\u001b[0m\u001b[1;33m,\u001b[0m \u001b[1;33m**\u001b[0m\u001b[0mself\u001b[0m\u001b[1;33m.\u001b[0m\u001b[0m__kw\u001b[0m\u001b[1;33m)\u001b[0m\u001b[1;33m\u001b[0m\u001b[1;33m\u001b[0m\u001b[0m\n\u001b[0m\u001b[0;32m    143\u001b[0m \u001b[1;33m\u001b[0m\u001b[0m\n\u001b[0;32m    144\u001b[0m         \u001b[1;32mdef\u001b[0m \u001b[0m__bytes_cast\u001b[0m\u001b[1;33m(\u001b[0m\u001b[0mself\u001b[0m\u001b[1;33m)\u001b[0m\u001b[1;33m:\u001b[0m\u001b[1;33m\u001b[0m\u001b[1;33m\u001b[0m\u001b[0m\n",
      "\u001b[1;32m~\\AppData\\Local\\Programs\\Python\\Python310\\lib\\site-packages\\django\\utils\\translation\\__init__.py\u001b[0m in \u001b[0;36mgettext\u001b[1;34m(message)\u001b[0m\n\u001b[0;32m     72\u001b[0m \u001b[1;33m\u001b[0m\u001b[0m\n\u001b[0;32m     73\u001b[0m \u001b[1;32mdef\u001b[0m \u001b[0mgettext\u001b[0m\u001b[1;33m(\u001b[0m\u001b[0mmessage\u001b[0m\u001b[1;33m)\u001b[0m\u001b[1;33m:\u001b[0m\u001b[1;33m\u001b[0m\u001b[1;33m\u001b[0m\u001b[0m\n\u001b[1;32m---> 74\u001b[1;33m     \u001b[1;32mreturn\u001b[0m \u001b[0m_trans\u001b[0m\u001b[1;33m.\u001b[0m\u001b[0mgettext\u001b[0m\u001b[1;33m(\u001b[0m\u001b[0mmessage\u001b[0m\u001b[1;33m)\u001b[0m\u001b[1;33m\u001b[0m\u001b[1;33m\u001b[0m\u001b[0m\n\u001b[0m\u001b[0;32m     75\u001b[0m \u001b[1;33m\u001b[0m\u001b[0m\n\u001b[0;32m     76\u001b[0m \u001b[1;33m\u001b[0m\u001b[0m\n",
      "\u001b[1;32m~\\AppData\\Local\\Programs\\Python\\Python310\\lib\\site-packages\\django\\utils\\translation\\__init__.py\u001b[0m in \u001b[0;36m__getattr__\u001b[1;34m(self, real_name)\u001b[0m\n\u001b[0;32m     48\u001b[0m     \u001b[1;32mdef\u001b[0m \u001b[0m__getattr__\u001b[0m\u001b[1;33m(\u001b[0m\u001b[0mself\u001b[0m\u001b[1;33m,\u001b[0m \u001b[0mreal_name\u001b[0m\u001b[1;33m)\u001b[0m\u001b[1;33m:\u001b[0m\u001b[1;33m\u001b[0m\u001b[1;33m\u001b[0m\u001b[0m\n\u001b[0;32m     49\u001b[0m         \u001b[1;32mfrom\u001b[0m \u001b[0mdjango\u001b[0m\u001b[1;33m.\u001b[0m\u001b[0mconf\u001b[0m \u001b[1;32mimport\u001b[0m \u001b[0msettings\u001b[0m\u001b[1;33m\u001b[0m\u001b[1;33m\u001b[0m\u001b[0m\n\u001b[1;32m---> 50\u001b[1;33m         \u001b[1;32mif\u001b[0m \u001b[0msettings\u001b[0m\u001b[1;33m.\u001b[0m\u001b[0mUSE_I18N\u001b[0m\u001b[1;33m:\u001b[0m\u001b[1;33m\u001b[0m\u001b[1;33m\u001b[0m\u001b[0m\n\u001b[0m\u001b[0;32m     51\u001b[0m             \u001b[1;32mfrom\u001b[0m \u001b[0mdjango\u001b[0m\u001b[1;33m.\u001b[0m\u001b[0mutils\u001b[0m\u001b[1;33m.\u001b[0m\u001b[0mtranslation\u001b[0m \u001b[1;32mimport\u001b[0m \u001b[0mtrans_real\u001b[0m \u001b[1;32mas\u001b[0m \u001b[0mtrans\u001b[0m\u001b[1;33m\u001b[0m\u001b[1;33m\u001b[0m\u001b[0m\n\u001b[0;32m     52\u001b[0m             from django.utils.translation.reloader import (\n",
      "\u001b[1;32m~\\AppData\\Local\\Programs\\Python\\Python310\\lib\\site-packages\\django\\conf\\__init__.py\u001b[0m in \u001b[0;36m__getattr__\u001b[1;34m(self, name)\u001b[0m\n\u001b[0;32m     82\u001b[0m         \u001b[1;34m\"\"\"Return the value of a setting and cache it in self.__dict__.\"\"\"\u001b[0m\u001b[1;33m\u001b[0m\u001b[1;33m\u001b[0m\u001b[0m\n\u001b[0;32m     83\u001b[0m         \u001b[1;32mif\u001b[0m \u001b[0mself\u001b[0m\u001b[1;33m.\u001b[0m\u001b[0m_wrapped\u001b[0m \u001b[1;32mis\u001b[0m \u001b[0mempty\u001b[0m\u001b[1;33m:\u001b[0m\u001b[1;33m\u001b[0m\u001b[1;33m\u001b[0m\u001b[0m\n\u001b[1;32m---> 84\u001b[1;33m             \u001b[0mself\u001b[0m\u001b[1;33m.\u001b[0m\u001b[0m_setup\u001b[0m\u001b[1;33m(\u001b[0m\u001b[0mname\u001b[0m\u001b[1;33m)\u001b[0m\u001b[1;33m\u001b[0m\u001b[1;33m\u001b[0m\u001b[0m\n\u001b[0m\u001b[0;32m     85\u001b[0m         \u001b[0mval\u001b[0m \u001b[1;33m=\u001b[0m \u001b[0mgetattr\u001b[0m\u001b[1;33m(\u001b[0m\u001b[0mself\u001b[0m\u001b[1;33m.\u001b[0m\u001b[0m_wrapped\u001b[0m\u001b[1;33m,\u001b[0m \u001b[0mname\u001b[0m\u001b[1;33m)\u001b[0m\u001b[1;33m\u001b[0m\u001b[1;33m\u001b[0m\u001b[0m\n\u001b[0;32m     86\u001b[0m \u001b[1;33m\u001b[0m\u001b[0m\n",
      "\u001b[1;32m~\\AppData\\Local\\Programs\\Python\\Python310\\lib\\site-packages\\django\\conf\\__init__.py\u001b[0m in \u001b[0;36m_setup\u001b[1;34m(self, name)\u001b[0m\n\u001b[0;32m     63\u001b[0m         \u001b[1;32mif\u001b[0m \u001b[1;32mnot\u001b[0m \u001b[0msettings_module\u001b[0m\u001b[1;33m:\u001b[0m\u001b[1;33m\u001b[0m\u001b[1;33m\u001b[0m\u001b[0m\n\u001b[0;32m     64\u001b[0m             \u001b[0mdesc\u001b[0m \u001b[1;33m=\u001b[0m \u001b[1;33m(\u001b[0m\u001b[1;34m\"setting %s\"\u001b[0m \u001b[1;33m%\u001b[0m \u001b[0mname\u001b[0m\u001b[1;33m)\u001b[0m \u001b[1;32mif\u001b[0m \u001b[0mname\u001b[0m \u001b[1;32melse\u001b[0m \u001b[1;34m\"settings\"\u001b[0m\u001b[1;33m\u001b[0m\u001b[1;33m\u001b[0m\u001b[0m\n\u001b[1;32m---> 65\u001b[1;33m             raise ImproperlyConfigured(\n\u001b[0m\u001b[0;32m     66\u001b[0m                 \u001b[1;34m\"Requested %s, but settings are not configured. \"\u001b[0m\u001b[1;33m\u001b[0m\u001b[1;33m\u001b[0m\u001b[0m\n\u001b[0;32m     67\u001b[0m                 \u001b[1;34m\"You must either define the environment variable %s \"\u001b[0m\u001b[1;33m\u001b[0m\u001b[1;33m\u001b[0m\u001b[0m\n",
      "\u001b[1;31mImproperlyConfigured\u001b[0m: Requested setting USE_I18N, but settings are not configured. You must either define the environment variable DJANGO_SETTINGS_MODULE or call settings.configure() before accessing settings."
     ]
    }
   ],
   "source": [
    "from shop.choices import ColorChoices, CategoryChoices"
   ]
  },
  {
   "cell_type": "code",
   "execution_count": 45,
   "metadata": {},
   "outputs": [],
   "source": [
    "# There are 36 groups of images so we'll\n",
    "# be creating a total of 36 products\n",
    "\n",
    "def generate_generic_products():\n",
    "    with open(os.path.join(IMAGES_FOLDER_PATH, 'fashion.json'), mode='w', encoding='utf-8') as f:\n",
    "        products = []\n",
    "        \n",
    "        _, images, _ = collect_files()\n",
    "        names = set(map(detect_media_name, images))\n",
    "       \n",
    "        for name in names:\n",
    "            if name is not None:\n",
    "                product = {\n",
    "                    'name': name.title(),\n",
    "                    'color': random.choice(ColorChoices.choices)[-1],\n",
    "                    'unit_price': random.randrange(10, 800),\n",
    "                    'active': False,\n",
    "                    'display_new': random.choice([True, False]),\n",
    "                    'slug': create_product_slug(name),\n",
    "                    'category': random.choice(CategoryChoices.choices)[-1]\n",
    "                }\n",
    "                \n",
    "                is_on_sale = random.choice([True, False])\n",
    "                if is_on_sale:\n",
    "                    product['sale_value'] = random.randrange(10, 50)\n",
    "                    product['on_sale'] = True\n",
    "                else:\n",
    "                    product['sale_value'] = 0\n",
    "                    product['on_sale'] = False\n",
    "                products.append(product)\n",
    "                \n",
    "        json.dump(products, f)\n",
    "        print('Created', len(names), 'products')\n",
    "        return products\n"
   ]
  },
  {
   "cell_type": "code",
   "execution_count": 46,
   "metadata": {},
   "outputs": [
    {
     "name": "stdout",
     "output_type": "stream",
     "text": [
      "Created 40 products\n"
     ]
    }
   ],
   "source": [
    "PRODUCTS = generate_generic_products()"
   ]
  },
  {
   "cell_type": "markdown",
   "metadata": {},
   "source": [
    "## Database objects creation\n",
    "Create all the test items from above in the database"
   ]
  },
  {
   "cell_type": "code",
   "execution_count": 48,
   "metadata": {},
   "outputs": [],
   "source": [
    "from shop.models import Image, Video, Product\n",
    "from shop.utils import process_file_name\n",
    "from django.contrib.auth import get_user_model\n",
    "from django.core.files import File\n"
   ]
  },
  {
   "cell_type": "code",
   "execution_count": 60,
   "metadata": {},
   "outputs": [],
   "source": [
    "def create_database_objects(commit=False, images_alone=False):\n",
    "    full_path, images, videos = collect_files()\n",
    "        \n",
    "    def image_iterator():\n",
    "        for i, image in enumerate(images):\n",
    "            f = open(os.path.join(full_path, image), mode='rb')\n",
    "            base_name, _, _ = process_file_name(image)\n",
    "            clean_name = detect_media_name(base_name)\n",
    "            yield Image(name=f\"{clean_name}{i}\", original=File(f, name=image))\n",
    "            \n",
    "    def video_iterator():\n",
    "        for i, video in enumerate(videos):\n",
    "            f = open(os.path.join(full_path, video), mode='rb')\n",
    "            base_name, _, _ = process_file_name(video)\n",
    "            clean_name = detect_media_name(base_name)\n",
    "            yield Video(name=f\"{clean_name}{i}\", content=File(f, name=video))\n",
    "\n",
    "    if commit:\n",
    "        Image.objects.bulk_create(image_iterator())\n",
    "        \n",
    "        if not images_alone:\n",
    "            Video.objects.bulk_create(video_iterator())"
   ]
  },
  {
   "cell_type": "code",
   "execution_count": 61,
   "metadata": {},
   "outputs": [],
   "source": [
    "def create_products(commit=False):\n",
    "    def iterator():\n",
    "        for data in PRODUCTS:\n",
    "            yield Product(**data)\n",
    "\n",
    "    if commit:\n",
    "        Product.objects.bulk_create(iterator())"
   ]
  },
  {
   "cell_type": "code",
   "execution_count": 62,
   "metadata": {},
   "outputs": [],
   "source": [
    "create_database_objects(commit=False, images_alone=True)"
   ]
  },
  {
   "cell_type": "code",
   "execution_count": 63,
   "metadata": {},
   "outputs": [],
   "source": [
    "create_products(commit=False)"
   ]
  },
  {
   "cell_type": "code",
   "execution_count": null,
   "metadata": {},
   "outputs": [],
   "source": [
    "USER_MODEL = get_user_model()\n",
    "\n",
    "def create_users():\n",
    "    users = [\n",
    "        ['lucile@gmail.com', 'Lucile', 'Lopez', 'touparette'],\n",
    "        ['pauline@gmail.com', 'Pauline', 'Matthieu', 'touparette']\n",
    "    ]\n",
    "    for user in users:\n",
    "        try:\n",
    "            user_object = USER_MODEL.objects.create_user(email=user[0], password=user[-1], first_name=user[1], last_name=user[2])\n",
    "        except:\n",
    "            print('User exists already')"
   ]
  }
 ],
 "metadata": {
  "interpreter": {
   "hash": "a0bd6618edf0d14bd6f3961f5ce864ba9026d0b90c30defed834a200c37c8344"
  },
  "kernelspec": {
   "display_name": "Python 3.10.0 64-bit",
   "language": "python",
   "name": "python3"
  },
  "language_info": {
   "codemirror_mode": {
    "name": "ipython",
    "version": 3
   },
   "file_extension": ".py",
   "mimetype": "text/x-python",
   "name": "python",
   "nbconvert_exporter": "python",
   "pygments_lexer": "ipython3",
   "version": "3.10.0"
  },
  "orig_nbformat": 4
 },
 "nbformat": 4,
 "nbformat_minor": 2
}
