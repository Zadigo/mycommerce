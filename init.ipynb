{
 "cells": [
  {
   "cell_type": "markdown",
   "metadata": {},
   "source": [
    "# Configure file\n",
    "\n",
    "Since this file will also be uploaded, this avoids exposing sensitive data by configuration global paths"
   ]
  },
  {
   "cell_type": "code",
   "execution_count": 1,
   "metadata": {},
   "outputs": [],
   "source": [
    "import configparser"
   ]
  },
  {
   "cell_type": "code",
   "execution_count": 2,
   "metadata": {},
   "outputs": [
    {
     "data": {
      "text/plain": [
       "['project.ini']"
      ]
     },
     "execution_count": 2,
     "metadata": {},
     "output_type": "execute_result"
    }
   ],
   "source": [
    "configuration = configparser.ConfigParser()\n",
    "configuration.read('project.ini')"
   ]
  },
  {
   "cell_type": "code",
   "execution_count": 3,
   "metadata": {},
   "outputs": [],
   "source": [
    "IMAGES_FOLDER_PATH = configuration.get('DEFAULT', 'images_folder')"
   ]
  },
  {
   "cell_type": "markdown",
   "metadata": {},
   "source": [
    "## Django setup"
   ]
  },
  {
   "cell_type": "code",
   "execution_count": 4,
   "metadata": {},
   "outputs": [],
   "source": [
    "import django\n",
    "import os\n",
    "import pathlib\n",
    "from django.conf import settings"
   ]
  },
  {
   "cell_type": "code",
   "execution_count": 6,
   "metadata": {},
   "outputs": [],
   "source": [
    "BASE_DIR = pathlib.Path('.')"
   ]
  },
  {
   "cell_type": "code",
   "execution_count": 7,
   "metadata": {},
   "outputs": [],
   "source": [
    "settings.configure(\n",
    "    BASE_DIR=BASE_DIR,\n",
    "    INSTALLED_APPS=[\n",
    "        'django.contrib.admin',\n",
    "        'django.contrib.auth',\n",
    "        'django.contrib.contenttypes',\n",
    "        'django.contrib.sessions',\n",
    "        'django.contrib.messages',\n",
    "        'django.contrib.staticfiles',\n",
    "\n",
    "        'django_extensions',\n",
    "        'corsheaders',\n",
    "        'rest_framework',\n",
    "        'rest_framework.authtoken',\n",
    "\n",
    "        'api',\n",
    "        'shop',\n",
    "        'variants',\n",
    "        'cart',\n",
    "        'orders',\n",
    "        'shipments',\n",
    "        'reviews',\n",
    "    ],\n",
    "    DATABASES={\n",
    "        # 'default': {\n",
    "        #     'ENGINE': 'django.db.backends.sqlite3',\n",
    "        #     'NAME': os.path.join(BASE_DIR, 'db.sqlite3'),\n",
    "        # }\n",
    "        'default': {\n",
    "            'ENGINE': 'django.db.backends.postgresql',\n",
    "            'NAME': 'mycommerce',\n",
    "            'USER': 'test_user',\n",
    "            'PASSWORD': 'touparet',\n",
    "            'HOST': 'localhost',\n",
    "            'PORT': '5432'\n",
    "        }\n",
    "    },\n",
    "    MEDIA_ROOT=BASE_DIR.joinpath('media'),\n",
    "    DEFAULT_AUTO_FIELD='django.db.models.BigAutoField',\n",
    "    PRODUCT_MODEL='shop.Product',\n",
    "    CUSTOMER_ORDERS_MODEL='orders.CustomerOrder',\n",
    "    STRIPE_TOKENS=[()]\n",
    ")\n"
   ]
  },
  {
   "cell_type": "code",
   "execution_count": 8,
   "metadata": {},
   "outputs": [
    {
     "data": {
      "text/plain": [
       "'True'"
      ]
     },
     "execution_count": 8,
     "metadata": {},
     "output_type": "execute_result"
    }
   ],
   "source": [
    "os.environ.setdefault('DJANGO_ALLOW_ASYNC_UNSAFE', 'True')"
   ]
  },
  {
   "cell_type": "code",
   "execution_count": 9,
   "metadata": {},
   "outputs": [],
   "source": [
    "django.setup()"
   ]
  },
  {
   "cell_type": "markdown",
   "metadata": {},
   "source": [
    "## File collection"
   ]
  },
  {
   "cell_type": "code",
   "execution_count": 12,
   "metadata": {},
   "outputs": [],
   "source": [
    "def collect_files():\n",
    "    if os.path.exists(IMAGES_FOLDER_PATH):\n",
    "        if os.path.isdir(IMAGES_FOLDER_PATH):\n",
    "            result = list(os.walk(IMAGES_FOLDER_PATH))\n",
    "            full_path, dirs, files = result[0]\n",
    "            \n",
    "            images = filter(lambda x: any([x.endswith('jpg'), x.endswith('jpeg')]), files)\n",
    "            videos = filter(lambda x: x.endswith('mp4'), files)\n",
    "            \n",
    "            return full_path, list(images), list(videos)\n",
    "    return None, [], []"
   ]
  },
  {
   "cell_type": "markdown",
   "metadata": {},
   "source": [
    "## Product file generation\n",
    "Functions to generate a generic set of products from collected named fashion images"
   ]
  },
  {
   "cell_type": "code",
   "execution_count": 25,
   "metadata": {},
   "outputs": [],
   "source": [
    "import json\n",
    "import pathlib\n",
    "import re\n",
    "import random\n",
    "import datetime\n",
    "import pytz\n",
    "from shop.utils import create_product_slug\n",
    "from shop.choices import ColorChoices, CategoryChoices\n"
   ]
  },
  {
   "cell_type": "code",
   "execution_count": 26,
   "metadata": {},
   "outputs": [],
   "source": [
    "def detect_media_name(name):\n",
    "    \"\"\"Detects the true name of the media file\"\"\"\n",
    "    result = re.match(r'(\\w+\\s)+', name)\n",
    "    if result is not None:\n",
    "        return result.group(0).strip().lower()\n"
   ]
  },
  {
   "cell_type": "code",
   "execution_count": 30,
   "metadata": {},
   "outputs": [
    {
     "name": "stdout",
     "output_type": "stream",
     "text": [
      "Created 47 products\n"
     ]
    }
   ],
   "source": [
    "def create_product_fixtures(model_dotted_path):\n",
    "    \"\"\"Creates a bunch of generic products for the test database\"\"\"\n",
    "    with open(os.path.join('.', 'fixtures.json'), mode='w', encoding='utf-8') as f:\n",
    "        products = []\n",
    "\n",
    "        _, images, _ = collect_files()\n",
    "        names = set(map(detect_media_name, images))\n",
    "        current_date = str(datetime.datetime.now(tz=pytz.timezone('America/Chicago')).date())\n",
    "        \n",
    "        for i, name in enumerate(names):\n",
    "            if name is not None:\n",
    "                color = str(random.choice(ColorChoices.choices)[0])\n",
    "                \n",
    "                product = {\n",
    "                    'name': name.title(),\n",
    "                    'color': color,\n",
    "                    'unit_price': random.randrange(10, 800),\n",
    "                    'active': False,\n",
    "                    'display_new': random.choice([True, False]),\n",
    "                    'slug': create_product_slug(name, color),\n",
    "                    'category': str(random.choice(CategoryChoices.choices)[0]),\n",
    "                    'created_on': current_date,\n",
    "                    'modified_on': current_date\n",
    "                }\n",
    "\n",
    "                is_on_sale = random.choice([True, False])\n",
    "                if is_on_sale:\n",
    "                    product['sale_value'] = random.randrange(10, 50)\n",
    "                    product['on_sale'] = True\n",
    "                else:\n",
    "                    product['sale_value'] = 0\n",
    "                    product['on_sale'] = False\n",
    "                    \n",
    "                products.append({\n",
    "                    'model': model_dotted_path,\n",
    "                    'pk': i + 1,\n",
    "                    'fields': product\n",
    "                })\n",
    "\n",
    "        json.dump(products, f)\n",
    "        print('Created', len(names), 'products')\n",
    "\n",
    "create_product_fixtures('shop.Product')\n"
   ]
  },
  {
   "cell_type": "code",
   "execution_count": 35,
   "metadata": {},
   "outputs": [],
   "source": [
    "def generate_generic_products():\n",
    "    with open(os.path.join(IMAGES_FOLDER_PATH, 'fashion.json'), mode='w', encoding='utf-8') as f:\n",
    "        products = []\n",
    "        \n",
    "        _, images, _ = collect_files()\n",
    "        names = set(map(detect_media_name, images))\n",
    "       \n",
    "        for name in names:\n",
    "            if name is not None:\n",
    "                color = random.choice(ColorChoices.choices)[-1]\n",
    "                \n",
    "                product = {\n",
    "                    'name': name.title(),\n",
    "                    'color': color,\n",
    "                    'unit_price': random.randrange(10, 800),\n",
    "                    'active': False,\n",
    "                    'display_new': random.choice([True, False]),\n",
    "                    'slug': create_product_slug(name, color),\n",
    "                    'category': random.choice(CategoryChoices.choices)[-1]\n",
    "                }\n",
    "                \n",
    "                is_on_sale = random.choice([True, False])\n",
    "                if is_on_sale:\n",
    "                    product['sale_value'] = random.randrange(10, 50)\n",
    "                    product['on_sale'] = True\n",
    "                else:\n",
    "                    product['sale_value'] = 0\n",
    "                    product['on_sale'] = False\n",
    "                products.append(product)\n",
    "                \n",
    "        json.dump(products, f)\n",
    "        print('Created', len(names), 'products')\n",
    "        return products"
   ]
  },
  {
   "cell_type": "code",
   "execution_count": 36,
   "metadata": {},
   "outputs": [
    {
     "name": "stdout",
     "output_type": "stream",
     "text": [
      "Created 47 products\n"
     ]
    }
   ],
   "source": [
    "PRODUCTS = generate_generic_products()"
   ]
  },
  {
   "cell_type": "markdown",
   "metadata": {},
   "source": [
    "## Database objects creation\n",
    "Create all the test items from above in the database"
   ]
  },
  {
   "cell_type": "code",
   "execution_count": 45,
   "metadata": {},
   "outputs": [],
   "source": [
    "from shop.models import Image, Video, Product\n",
    "from shop.utils import process_file_name\n",
    "from django.contrib.auth import get_user_model\n",
    "from django.core.files import File\n"
   ]
  },
  {
   "cell_type": "code",
   "execution_count": 46,
   "metadata": {},
   "outputs": [],
   "source": [
    "def create_media_objects(commit=False, images_alone=False):\n",
    "    full_path, images, videos = collect_files()\n",
    "        \n",
    "    def image_iterator():\n",
    "        for i, image in enumerate(images):\n",
    "            f = open(os.path.join(full_path, image), mode='rb')\n",
    "            base_name, _, _ = process_file_name(image)\n",
    "            clean_name = detect_media_name(base_name)\n",
    "            yield Image(name=f\"{clean_name}{i}\", original=File(f, name=image))\n",
    "            \n",
    "    def video_iterator():\n",
    "        for i, video in enumerate(videos):\n",
    "            f = open(os.path.join(full_path, video), mode='rb')\n",
    "            base_name, _, _ = process_file_name(video)\n",
    "            clean_name = detect_media_name(base_name)\n",
    "            yield Video(name=f\"{clean_name}{i}\", content=File(f, name=video))\n",
    "\n",
    "    if commit:\n",
    "        Image.objects.bulk_create(image_iterator())\n",
    "        \n",
    "        if not images_alone:\n",
    "            Video.objects.bulk_create(video_iterator())\n",
    "    else:\n",
    "        return image_iterator(), video_iterator()"
   ]
  },
  {
   "cell_type": "code",
   "execution_count": 47,
   "metadata": {},
   "outputs": [],
   "source": [
    "def create_products(commit=False):\n",
    "    def iterator():\n",
    "        for data in PRODUCTS:\n",
    "            yield Product(**data)\n",
    "\n",
    "    if commit:\n",
    "        Product.objects.bulk_create(iterator())"
   ]
  },
  {
   "cell_type": "code",
   "execution_count": 49,
   "metadata": {},
   "outputs": [],
   "source": [
    "create_media_objects(commit=True, images_alone=False)"
   ]
  },
  {
   "cell_type": "code",
   "execution_count": 53,
   "metadata": {},
   "outputs": [],
   "source": [
    "create_products(commit=True)"
   ]
  },
  {
   "cell_type": "code",
   "execution_count": null,
   "metadata": {},
   "outputs": [],
   "source": [
    "USER_MODEL = get_user_model()\n",
    "\n",
    "def create_users():\n",
    "    users = [\n",
    "        ['lucile@gmail.com', 'Lucile', 'Lopez', 'touparette'],\n",
    "        ['pauline@gmail.com', 'Pauline', 'Matthieu', 'touparette']\n",
    "    ]\n",
    "    for user in users:\n",
    "        try:\n",
    "            user_object = USER_MODEL.objects.create_user(email=user[0], password=user[-1], first_name=user[1], last_name=user[2])\n",
    "        except:\n",
    "            print('User exists already')"
   ]
  }
 ],
 "metadata": {
  "interpreter": {
   "hash": "a0bd6618edf0d14bd6f3961f5ce864ba9026d0b90c30defed834a200c37c8344"
  },
  "kernelspec": {
   "display_name": "Python 3.10.0 64-bit",
   "language": "python",
   "name": "python3"
  },
  "language_info": {
   "codemirror_mode": {
    "name": "ipython",
    "version": 3
   },
   "file_extension": ".py",
   "mimetype": "text/x-python",
   "name": "python",
   "nbconvert_exporter": "python",
   "pygments_lexer": "ipython3",
   "version": "3.10.0"
  },
  "orig_nbformat": 4
 },
 "nbformat": 4,
 "nbformat_minor": 2
}
