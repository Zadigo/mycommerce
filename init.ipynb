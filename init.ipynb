{
 "cells": [
  {
   "cell_type": "markdown",
   "metadata": {},
   "source": [
    "# Project configuration file\n",
    "\n",
    "Since this file will also be uploaded, this avoids exposing sensitive data by configuration global paths. So define a project.ini file with a `images_folder` variable that will point towards an images folder called `fashion`."
   ]
  },
  {
   "cell_type": "code",
   "execution_count": null,
   "metadata": {},
   "outputs": [],
   "source": [
    "import configparser\n",
    "import pathlib"
   ]
  },
  {
   "cell_type": "code",
   "execution_count": null,
   "metadata": {},
   "outputs": [
    {
     "data": {
      "text/plain": [
       "['project.ini']"
      ]
     },
     "execution_count": 29,
     "metadata": {},
     "output_type": "execute_result"
    }
   ],
   "source": [
    "config_file = configparser.ConfigParser()\n",
    "config_file.read('project.ini')"
   ]
  },
  {
   "cell_type": "code",
   "execution_count": null,
   "metadata": {},
   "outputs": [
    {
     "data": {
      "text/plain": [
       "WindowsPath('C:/Users/Pende/Downloads/fashion')"
      ]
     },
     "execution_count": 30,
     "metadata": {},
     "output_type": "execute_result"
    }
   ],
   "source": [
    "IMAGES_FOLDER_PATH = pathlib.Path(config_file.get('default', 'images_folder'))\n",
    "# TODO: IMAGES = IMAGES_FOLDER_PATH.glob('**/*')\n",
    "IMAGES_FOLDER_PATH"
   ]
  },
  {
   "cell_type": "markdown",
   "metadata": {},
   "source": [
    "## Django setup\n",
    "\n",
    "Initialize the Django backend"
   ]
  },
  {
   "cell_type": "code",
   "execution_count": 4,
   "metadata": {},
   "outputs": [],
   "source": [
    "import django\n",
    "import os\n",
    "from django.conf import settings"
   ]
  },
  {
   "cell_type": "code",
   "execution_count": 5,
   "metadata": {},
   "outputs": [],
   "source": [
    "BASE_DIR = pathlib.Path('.')"
   ]
  },
  {
   "cell_type": "code",
   "execution_count": 6,
   "metadata": {},
   "outputs": [],
   "source": [
    "settings.configure(\n",
    "    BASE_DIR=BASE_DIR,\n",
    "    INSTALLED_APPS=[\n",
    "        'django.contrib.admin',\n",
    "        'django.contrib.auth',\n",
    "        'django.contrib.contenttypes',\n",
    "        'django.contrib.sessions',\n",
    "        'django.contrib.messages',\n",
    "        'django.contrib.staticfiles',\n",
    "\n",
    "        'django_extensions',\n",
    "        'corsheaders',\n",
    "        'rest_framework',\n",
    "        'rest_framework.authtoken',\n",
    "        \n",
    "        'shop',\n",
    "        'variants',\n",
    "        'cart',\n",
    "        'orders',\n",
    "        'shipments',\n",
    "        'reviews',\n",
    "    ],\n",
    "    DATABASES={\n",
    "        'default': {\n",
    "            'ENGINE': 'django.db.backends.postgresql',\n",
    "            'NAME': 'mycommerce',\n",
    "            'USER': 'test_user',\n",
    "            'PASSWORD': 'touparet',\n",
    "            'HOST': 'localhost',\n",
    "            'PORT': '5432'\n",
    "        }\n",
    "    },\n",
    "    MEDIA_ROOT=BASE_DIR.joinpath('media'),\n",
    "    DEFAULT_AUTO_FIELD='django.db.models.BigAutoField',\n",
    "    PRODUCT_MODEL='shop.Product',\n",
    "    CUSTOMER_ORDERS_MODEL='orders.CustomerOrder',\n",
    "    STRIPE_TOKENS=[()]\n",
    ")\n"
   ]
  },
  {
   "cell_type": "code",
   "execution_count": 7,
   "metadata": {},
   "outputs": [
    {
     "data": {
      "text/plain": [
       "'True'"
      ]
     },
     "execution_count": 7,
     "metadata": {},
     "output_type": "execute_result"
    }
   ],
   "source": [
    "os.environ.setdefault('DJANGO_ALLOW_ASYNC_UNSAFE', 'True')"
   ]
  },
  {
   "cell_type": "code",
   "execution_count": 8,
   "metadata": {},
   "outputs": [],
   "source": [
    "django.setup()"
   ]
  },
  {
   "attachments": {},
   "cell_type": "markdown",
   "metadata": {},
   "source": [
    "## File collection\n",
    "\n",
    "Collect all the named images and videos in the images folder. The image's name will be used for the product's name. In that sense, similar images should have the same name in order for them to be considered the same product."
   ]
  },
  {
   "cell_type": "code",
   "execution_count": 31,
   "metadata": {},
   "outputs": [],
   "source": [
    "def collect_files():\n",
    "    if os.path.exists(IMAGES_FOLDER_PATH):\n",
    "        if os.path.isdir(IMAGES_FOLDER_PATH):\n",
    "            result = list(os.walk(IMAGES_FOLDER_PATH))\n",
    "            full_path, dirs, files = result[0]\n",
    "            \n",
    "            images = filter(lambda x: any([x.endswith('jpg'), x.endswith('jpeg')]), files)\n",
    "            videos = filter(lambda x: x.endswith('mp4'), files)\n",
    "            \n",
    "            images = list(images)\n",
    "            videos = list(videos)\n",
    "            print('Collected', len(images), 'images and', len(videos), 'videos')\n",
    "            \n",
    "            return pathlib.Path(full_path), images, videos\n",
    "    print('Collected', 0, 'images and', 0, 'videos')\n",
    "    return None, [], []\n",
    "\n",
    "\n",
    "# TODO: Use Pathlib\n",
    "# def collect_files():\n",
    "#     images = []\n",
    "#     videos = []\n",
    "\n",
    "#     for file in IMAGES:\n",
    "#         if not file.is_file():\n",
    "#             continue\n",
    "\n",
    "#         if file.name.endswith('jpeg'):\n",
    "#             images.append(file)\n",
    "        \n",
    "#         if file.name.endswith('mp4'):\n",
    "#             videos.append(file)\n",
    "\n",
    "#     print('Collected', len(images), 'images and', len(videos), 'videos')\n",
    "#     return images, videos"
   ]
  },
  {
   "cell_type": "markdown",
   "metadata": {},
   "source": [
    "## Product creation and fixtures\n",
    "\n",
    "Creates the related product for each image in the database backend. Creates a JSON fixture file for testing the proeject."
   ]
  },
  {
   "cell_type": "code",
   "execution_count": 32,
   "metadata": {},
   "outputs": [],
   "source": [
    "import json\n",
    "import pathlib\n",
    "import re\n",
    "import random\n",
    "import datetime\n",
    "import pytz\n",
    "from shop.utils import create_product_slug\n",
    "from shop.choices import ColorChoices, CategoryChoices\n",
    "from django.utils.crypto import get_random_string\n"
   ]
  },
  {
   "cell_type": "code",
   "execution_count": 33,
   "metadata": {},
   "outputs": [],
   "source": [
    "def detect_media_name(name):\n",
    "    \"\"\"Detects the true name of the media file\"\"\"\n",
    "    result = re.match(r'(\\w.*)(?=\\(\\d+\\))', name)\n",
    "    if result is not None:\n",
    "        return result.group(0).strip().lower()\n",
    "    else:\n",
    "        return get_random_string(10)"
   ]
  },
  {
   "cell_type": "code",
   "execution_count": 34,
   "metadata": {},
   "outputs": [],
   "source": [
    "def create_product_fixtures(model_dotted_path=None, create_fixture=False):\n",
    "    with open(BASE_DIR / 'fixtures.json', mode='w', encoding='utf-8') as f:\n",
    "        products = []\n",
    "\n",
    "        _, images, _ = collect_files()\n",
    "        names = set(map(detect_media_name, images))\n",
    "\n",
    "        timzone = pytz.timezone('America/Chicago')\n",
    "        current_date = str(datetime.datetime.now(tz=timzone).date())\n",
    "        \n",
    "        for i, name in enumerate(names):\n",
    "            if name is not None:\n",
    "                color = str(random.choice(ColorChoices.choices)[0])\n",
    "                \n",
    "                product = {\n",
    "                    'name': name.title(),\n",
    "                    'color': color,\n",
    "                    'unit_price': random.randrange(10, 800),\n",
    "                    'active': False,\n",
    "                    'display_new': random.choice([True, False]),\n",
    "                    'slug': create_product_slug(name, color),\n",
    "                    'category': str(random.choice(CategoryChoices.choices)[0]),\n",
    "                    'created_on': current_date,\n",
    "                    'modified_on': current_date\n",
    "                }\n",
    "\n",
    "                is_on_sale = random.choice([True, False])\n",
    "                product['on_sale'] = is_on_sale\n",
    "                if is_on_sale:\n",
    "                    product['sale_value'] = random.randrange(10, 50)\n",
    "                else:\n",
    "                    product['sale_value'] = 0\n",
    "                \n",
    "                if create_fixture:\n",
    "                    if model_dotted_path is None:\n",
    "                        raise ValueError('Fixtures require a model path e.g. app.MyModel')\n",
    "                    products.append({\n",
    "                        'pk': i + 1,\n",
    "                        'model': model_dotted_path,\n",
    "                        'fields': product\n",
    "                    })\n",
    "\n",
    "                    json.dump(products, f)\n",
    "                    print('Created', len(names), 'products')\n",
    "                else:\n",
    "                    products.append(product)\n",
    "        return products\n",
    "\n",
    "# create_product_fixtures('shop.Product')\n"
   ]
  },
  {
   "cell_type": "code",
   "execution_count": 35,
   "metadata": {},
   "outputs": [
    {
     "name": "stdout",
     "output_type": "stream",
     "text": [
      "Collected 298 images and 36 videos\n"
     ]
    }
   ],
   "source": [
    "PRODUCTS = create_product_fixtures()"
   ]
  },
  {
   "cell_type": "markdown",
   "metadata": {},
   "source": [
    "## Database object creation\n",
    "\n",
    "Save all of the items in the database"
   ]
  },
  {
   "cell_type": "code",
   "execution_count": 36,
   "metadata": {},
   "outputs": [],
   "source": [
    "from shop.models import Image, Video, Product\n",
    "from shop.utils import process_file_name\n",
    "from django.contrib.auth import get_user_model\n",
    "from django.core.files import File\n"
   ]
  },
  {
   "cell_type": "code",
   "execution_count": 37,
   "metadata": {},
   "outputs": [],
   "source": [
    "def create_media_objects(commit=False, images_alone=False):\n",
    "    full_path, images, videos = collect_files()\n",
    "    \n",
    "    def image_iterator():\n",
    "        for i, image in enumerate(images):\n",
    "            f = open(full_path.joinpath(image), mode='rb')\n",
    "            base_name, _, _ = process_file_name(image)\n",
    "            clean_name = detect_media_name(base_name)\n",
    "            yield Image(name=f\"{clean_name}{i}\", original=File(f, name=image))\n",
    "            \n",
    "    def video_iterator():\n",
    "        for i, video in enumerate(videos):\n",
    "            f = open(os.path.join(full_path, video), mode='rb')\n",
    "            base_name, _, _ = process_file_name(video)\n",
    "            clean_name = detect_media_name(base_name)\n",
    "            yield Video(name=f\"{clean_name}{i}\", content=File(f, name=video))\n",
    "\n",
    "    if commit:\n",
    "        Image.objects.bulk_create(image_iterator())\n",
    "        \n",
    "        if not images_alone:\n",
    "            Video.objects.bulk_create(video_iterator())\n",
    "    else:\n",
    "        return image_iterator(), video_iterator()"
   ]
  },
  {
   "cell_type": "code",
   "execution_count": 38,
   "metadata": {},
   "outputs": [],
   "source": [
    "def create_products(commit=False):\n",
    "    def iterator():\n",
    "        for data in PRODUCTS:\n",
    "            yield Product(**data)\n",
    "\n",
    "    if commit:\n",
    "        Product.objects.bulk_create(iterator())"
   ]
  },
  {
   "cell_type": "code",
   "execution_count": 39,
   "metadata": {},
   "outputs": [
    {
     "name": "stdout",
     "output_type": "stream",
     "text": [
      "Collected 298 images and 36 videos\n"
     ]
    }
   ],
   "source": [
    "create_media_objects(commit=True, images_alone=False)"
   ]
  },
  {
   "cell_type": "code",
   "execution_count": 18,
   "metadata": {},
   "outputs": [],
   "source": [
    "create_products(commit=True)"
   ]
  },
  {
   "cell_type": "code",
   "execution_count": 19,
   "metadata": {},
   "outputs": [],
   "source": [
    "USER_MODEL = get_user_model()\n",
    "\n",
    "def create_users():\n",
    "    users = [\n",
    "        ['lucile@gmail.com', 'Lucile', 'Lopez', 'touparette'],\n",
    "        ['pauline@gmail.com', 'Pauline', 'Matthieu', 'touparette']\n",
    "    ]\n",
    "    for user in users:\n",
    "        try:\n",
    "            user_object = USER_MODEL.objects.create_user(email=user[0], password=user[-1], first_name=user[1], last_name=user[2])\n",
    "        except:\n",
    "            print('User exists already')"
   ]
  }
 ],
 "metadata": {
  "kernelspec": {
   "display_name": "Python 3.10.5 64-bit",
   "language": "python",
   "name": "python3"
  },
  "language_info": {
   "codemirror_mode": {
    "name": "ipython",
    "version": 3
   },
   "file_extension": ".py",
   "mimetype": "text/x-python",
   "name": "python",
   "nbconvert_exporter": "python",
   "pygments_lexer": "ipython3",
   "version": "3.11.0"
  },
  "orig_nbformat": 4,
  "vscode": {
   "interpreter": {
    "hash": "ca1f8d375db99c89027bddfa368829266f26ac0cbca399008cdce114dd4d48b9"
   }
  }
 },
 "nbformat": 4,
 "nbformat_minor": 2
}
